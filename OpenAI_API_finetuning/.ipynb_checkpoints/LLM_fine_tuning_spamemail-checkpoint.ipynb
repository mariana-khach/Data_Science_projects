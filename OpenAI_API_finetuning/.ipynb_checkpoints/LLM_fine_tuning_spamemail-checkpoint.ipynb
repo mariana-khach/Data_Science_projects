{
 "cells": [
  {
   "cell_type": "code",
   "execution_count": 2,
   "id": "30c287ee",
   "metadata": {
    "scrolled": true
   },
   "outputs": [],
   "source": [
    "import pandas as pd\n",
    "import time\n",
    "import requests\n",
    "import json\n",
    "import os\n",
    "from dotenv import load_dotenv"
   ]
  },
  {
   "cell_type": "code",
   "execution_count": null,
   "id": "a6eba889-d609-4c78-aa06-10dd4ab38951",
   "metadata": {},
   "outputs": [],
   "source": [
    "load_dotenv()\n",
    "api_key=os.getenv(\"OPENAI_API_KEY\")"
   ]
  },
  {
   "cell_type": "markdown",
   "id": "b88545b2",
   "metadata": {},
   "source": [
    "# gpt-3.5-turbo: Labeling email spam (0) and or not spam (1)"
   ]
  },
  {
   "cell_type": "code",
   "execution_count": 2,
   "id": "1b72c50d",
   "metadata": {},
   "outputs": [
    {
     "name": "stdout",
     "output_type": "stream",
     "text": [
      "{\n",
      "  \"id\": \"chatcmpl-BzCRnojJ1s7li1SQMyb27VOX1xDDx\",\n",
      "  \"object\": \"chat.completion\",\n",
      "  \"created\": 1753925555,\n",
      "  \"model\": \"gpt-3.5-turbo-0125\",\n",
      "  \"choices\": [\n",
      "    {\n",
      "      \"index\": 0,\n",
      "      \"message\": {\n",
      "        \"role\": \"assistant\",\n",
      "        \"content\": \"{\\n  \\\"label\\\": 1\\n}\",\n",
      "        \"refusal\": null,\n",
      "        \"annotations\": []\n",
      "      },\n",
      "      \"logprobs\": null,\n",
      "      \"finish_reason\": \"stop\"\n",
      "    }\n",
      "  ],\n",
      "  \"usage\": {\n",
      "    \"prompt_tokens\": 100,\n",
      "    \"completion_tokens\": 9,\n",
      "    \"total_tokens\": 109,\n",
      "    \"prompt_tokens_details\": {\n",
      "      \"cached_tokens\": 0,\n",
      "      \"audio_tokens\": 0\n",
      "    },\n",
      "    \"completion_tokens_details\": {\n",
      "      \"reasoning_tokens\": 0,\n",
      "      \"audio_tokens\": 0,\n",
      "      \"accepted_prediction_tokens\": 0,\n",
      "      \"rejected_prediction_tokens\": 0\n",
      "    }\n",
      "  },\n",
      "  \"service_tier\": \"default\",\n",
      "  \"system_fingerprint\": null\n",
      "}\n",
      "\n"
     ]
    }
   ],
   "source": [
    "url = \"https://api.openai.com/v1/chat/completions\"\n",
    "\n",
    "#encode and decode data between Python objects and JSON (JavaScript Object Notation) format — a lightweight data format widely used for APIs,\n",
    "# web applications, and data exchange\n",
    "payload = json.dumps({\n",
    "  \"model\": \"gpt-3.5-turbo-0125\",\n",
    "  \"messages\": [\n",
    "    {\n",
    "      \"content\": \"You are a text classification model, given an input text, you will return a JSON object containing the probability scores for the following categories: 'label'. The JASON object should have key corresponding to these category, and the values should be 0 if email is classified as spam and 1 if email is not a spam.  Please respond with only the JSON object, without any additional text or explanation.\",\n",
    "      \"role\": \"system\"\n",
    "    },\n",
    "    {\n",
    "      \"content\": \"Hi sister, how are you doing .\",\n",
    "      \"role\": \"user\"\n",
    "    }\n",
    "  ]\n",
    "})\n",
    "headers = {\n",
    "  'Authorization': f'Bearer {api_key}',\n",
    "  'Content-Type': 'application/json',\n",
    "  'Cookie': '__cf_bm=FtpZ3B647tvV7GZ._lv.KIu8.LPIJ3BDiP8vri_7i2Y-1753915269-1.0.1.1-tY0KiYDDbhxrmWYAm5wI0iG1Gndd5w_dcikjVlVivAe8lxsZ2jBIXxiGyz1lWMcA0ZyCrzfEmRbDGniIMERrMe4zP0rEw_N5Fe.2V1TqbSg; _cfuvid=HLSW49QkwFYFKcQx3KgORiPpuhUDd7c51ewvhuQggc8-1753913185134-0.0.1.1-604800000'\n",
    "}\n",
    "\n",
    "response = requests.request(\"POST\", url, headers=headers, data=payload)\n",
    "\n",
    "print(response.text)\n"
   ]
  },
  {
   "cell_type": "markdown",
   "id": "b18be533",
   "metadata": {},
   "source": [
    "# Reading data"
   ]
  },
  {
   "cell_type": "code",
   "execution_count": 3,
   "id": "e0c19ecd",
   "metadata": {},
   "outputs": [],
   "source": [
    "df=pd.read_csv(\"df.csv\")\n",
    "df_validation=pd.read_csv(\"validation_data.csv\")"
   ]
  },
  {
   "cell_type": "code",
   "execution_count": 4,
   "id": "3dca0376",
   "metadata": {},
   "outputs": [
    {
     "data": {
      "text/html": [
       "<div>\n",
       "<style scoped>\n",
       "    .dataframe tbody tr th:only-of-type {\n",
       "        vertical-align: middle;\n",
       "    }\n",
       "\n",
       "    .dataframe tbody tr th {\n",
       "        vertical-align: top;\n",
       "    }\n",
       "\n",
       "    .dataframe thead th {\n",
       "        text-align: right;\n",
       "    }\n",
       "</style>\n",
       "<table border=\"1\" class=\"dataframe\">\n",
       "  <thead>\n",
       "    <tr style=\"text-align: right;\">\n",
       "      <th></th>\n",
       "      <th>label</th>\n",
       "      <th>id</th>\n",
       "      <th>sentence</th>\n",
       "    </tr>\n",
       "  </thead>\n",
       "  <tbody>\n",
       "    <tr>\n",
       "      <th>0</th>\n",
       "      <td>0</td>\n",
       "      <td>0</td>\n",
       "      <td>Unusual trading pattern detected in your portf...</td>\n",
       "    </tr>\n",
       "    <tr>\n",
       "      <th>1</th>\n",
       "      <td>0</td>\n",
       "      <td>1</td>\n",
       "      <td>Alert: Unusual activity on your OCBC card. Ver...</td>\n",
       "    </tr>\n",
       "    <tr>\n",
       "      <th>2</th>\n",
       "      <td>0</td>\n",
       "      <td>2</td>\n",
       "      <td>ALERT: Your Singtel line will be terminated du...</td>\n",
       "    </tr>\n",
       "    <tr>\n",
       "      <th>3</th>\n",
       "      <td>0</td>\n",
       "      <td>3</td>\n",
       "      <td>Congratulations! You've won a prize in our luc...</td>\n",
       "    </tr>\n",
       "    <tr>\n",
       "      <th>4</th>\n",
       "      <td>1</td>\n",
       "      <td>4</td>\n",
       "      <td>Reminder: Your yoga class at True Fitness Nove...</td>\n",
       "    </tr>\n",
       "    <tr>\n",
       "      <th>5</th>\n",
       "      <td>0</td>\n",
       "      <td>5</td>\n",
       "      <td>Congratulations! You've won in a lucky draw. P...</td>\n",
       "    </tr>\n",
       "    <tr>\n",
       "      <th>6</th>\n",
       "      <td>0</td>\n",
       "      <td>6</td>\n",
       "      <td>WARNING: Your account will be terminated in 24...</td>\n",
       "    </tr>\n",
       "    <tr>\n",
       "      <th>7</th>\n",
       "      <td>1</td>\n",
       "      <td>7</td>\n",
       "      <td>Hi Alex, I've reviewed your code for the new A...</td>\n",
       "    </tr>\n",
       "    <tr>\n",
       "      <th>8</th>\n",
       "      <td>0</td>\n",
       "      <td>8</td>\n",
       "      <td>Fantastic deal! 70% off at Ion Orchard shops T...</td>\n",
       "    </tr>\n",
       "    <tr>\n",
       "      <th>9</th>\n",
       "      <td>1</td>\n",
       "      <td>9</td>\n",
       "      <td>Hi Alex, I've reviewed your CV and I'm impress...</td>\n",
       "    </tr>\n",
       "  </tbody>\n",
       "</table>\n",
       "</div>"
      ],
      "text/plain": [
       "   label  id                                           sentence\n",
       "0      0   0  Unusual trading pattern detected in your portf...\n",
       "1      0   1  Alert: Unusual activity on your OCBC card. Ver...\n",
       "2      0   2  ALERT: Your Singtel line will be terminated du...\n",
       "3      0   3  Congratulations! You've won a prize in our luc...\n",
       "4      1   4  Reminder: Your yoga class at True Fitness Nove...\n",
       "5      0   5  Congratulations! You've won in a lucky draw. P...\n",
       "6      0   6  WARNING: Your account will be terminated in 24...\n",
       "7      1   7  Hi Alex, I've reviewed your code for the new A...\n",
       "8      0   8  Fantastic deal! 70% off at Ion Orchard shops T...\n",
       "9      1   9  Hi Alex, I've reviewed your CV and I'm impress..."
      ]
     },
     "execution_count": 4,
     "metadata": {},
     "output_type": "execute_result"
    }
   ],
   "source": [
    "df.head(10)"
   ]
  },
  {
   "cell_type": "markdown",
   "id": "5fdf5215",
   "metadata": {},
   "source": [
    "# Formating data for fine tuning"
   ]
  },
  {
   "cell_type": "markdown",
   "id": "f320f4e2",
   "metadata": {},
   "source": [
    "## Training data"
   ]
  },
  {
   "cell_type": "code",
   "execution_count": 6,
   "id": "64fd1597",
   "metadata": {},
   "outputs": [],
   "source": [
    "combined_scores=df[\"label\"].to_frame()\n",
    "scores_training=[]"
   ]
  },
  {
   "cell_type": "code",
   "execution_count": 7,
   "id": "6ba8f558",
   "metadata": {},
   "outputs": [
    {
     "data": {
      "text/html": [
       "<div>\n",
       "<style scoped>\n",
       "    .dataframe tbody tr th:only-of-type {\n",
       "        vertical-align: middle;\n",
       "    }\n",
       "\n",
       "    .dataframe tbody tr th {\n",
       "        vertical-align: top;\n",
       "    }\n",
       "\n",
       "    .dataframe thead th {\n",
       "        text-align: right;\n",
       "    }\n",
       "</style>\n",
       "<table border=\"1\" class=\"dataframe\">\n",
       "  <thead>\n",
       "    <tr style=\"text-align: right;\">\n",
       "      <th></th>\n",
       "      <th>label</th>\n",
       "    </tr>\n",
       "  </thead>\n",
       "  <tbody>\n",
       "    <tr>\n",
       "      <th>0</th>\n",
       "      <td>0</td>\n",
       "    </tr>\n",
       "    <tr>\n",
       "      <th>1</th>\n",
       "      <td>0</td>\n",
       "    </tr>\n",
       "    <tr>\n",
       "      <th>2</th>\n",
       "      <td>0</td>\n",
       "    </tr>\n",
       "    <tr>\n",
       "      <th>3</th>\n",
       "      <td>0</td>\n",
       "    </tr>\n",
       "    <tr>\n",
       "      <th>4</th>\n",
       "      <td>1</td>\n",
       "    </tr>\n",
       "    <tr>\n",
       "      <th>...</th>\n",
       "      <td>...</td>\n",
       "    </tr>\n",
       "    <tr>\n",
       "      <th>221</th>\n",
       "      <td>1</td>\n",
       "    </tr>\n",
       "    <tr>\n",
       "      <th>222</th>\n",
       "      <td>1</td>\n",
       "    </tr>\n",
       "    <tr>\n",
       "      <th>223</th>\n",
       "      <td>1</td>\n",
       "    </tr>\n",
       "    <tr>\n",
       "      <th>224</th>\n",
       "      <td>0</td>\n",
       "    </tr>\n",
       "    <tr>\n",
       "      <th>225</th>\n",
       "      <td>1</td>\n",
       "    </tr>\n",
       "  </tbody>\n",
       "</table>\n",
       "<p>226 rows × 1 columns</p>\n",
       "</div>"
      ],
      "text/plain": [
       "     label\n",
       "0        0\n",
       "1        0\n",
       "2        0\n",
       "3        0\n",
       "4        1\n",
       "..     ...\n",
       "221      1\n",
       "222      1\n",
       "223      1\n",
       "224      0\n",
       "225      1\n",
       "\n",
       "[226 rows x 1 columns]"
      ]
     },
     "execution_count": 7,
     "metadata": {},
     "output_type": "execute_result"
    }
   ],
   "source": [
    "combined_scores"
   ]
  },
  {
   "cell_type": "code",
   "execution_count": 8,
   "id": "8a6d8d53",
   "metadata": {},
   "outputs": [],
   "source": [
    "for index,row in combined_scores.iterrows():\n",
    "    scores_dict=row.to_dict()\n",
    "    scores_str=json.dumps(scores_dict)\n",
    "    scores_training.append(scores_str)"
   ]
  },
  {
   "cell_type": "code",
   "execution_count": 9,
   "id": "3eafed2f",
   "metadata": {},
   "outputs": [],
   "source": [
    "df[\"scores\"]=scores_training"
   ]
  },
  {
   "cell_type": "code",
   "execution_count": 10,
   "id": "dd7e6b33",
   "metadata": {},
   "outputs": [
    {
     "data": {
      "text/html": [
       "<div>\n",
       "<style scoped>\n",
       "    .dataframe tbody tr th:only-of-type {\n",
       "        vertical-align: middle;\n",
       "    }\n",
       "\n",
       "    .dataframe tbody tr th {\n",
       "        vertical-align: top;\n",
       "    }\n",
       "\n",
       "    .dataframe thead th {\n",
       "        text-align: right;\n",
       "    }\n",
       "</style>\n",
       "<table border=\"1\" class=\"dataframe\">\n",
       "  <thead>\n",
       "    <tr style=\"text-align: right;\">\n",
       "      <th></th>\n",
       "      <th>label</th>\n",
       "      <th>id</th>\n",
       "      <th>sentence</th>\n",
       "      <th>scores</th>\n",
       "    </tr>\n",
       "  </thead>\n",
       "  <tbody>\n",
       "    <tr>\n",
       "      <th>0</th>\n",
       "      <td>0</td>\n",
       "      <td>0</td>\n",
       "      <td>Unusual trading pattern detected in your portf...</td>\n",
       "      <td>{\"label\": 0}</td>\n",
       "    </tr>\n",
       "    <tr>\n",
       "      <th>1</th>\n",
       "      <td>0</td>\n",
       "      <td>1</td>\n",
       "      <td>Alert: Unusual activity on your OCBC card. Ver...</td>\n",
       "      <td>{\"label\": 0}</td>\n",
       "    </tr>\n",
       "    <tr>\n",
       "      <th>2</th>\n",
       "      <td>0</td>\n",
       "      <td>2</td>\n",
       "      <td>ALERT: Your Singtel line will be terminated du...</td>\n",
       "      <td>{\"label\": 0}</td>\n",
       "    </tr>\n",
       "    <tr>\n",
       "      <th>3</th>\n",
       "      <td>0</td>\n",
       "      <td>3</td>\n",
       "      <td>Congratulations! You've won a prize in our luc...</td>\n",
       "      <td>{\"label\": 0}</td>\n",
       "    </tr>\n",
       "    <tr>\n",
       "      <th>4</th>\n",
       "      <td>1</td>\n",
       "      <td>4</td>\n",
       "      <td>Reminder: Your yoga class at True Fitness Nove...</td>\n",
       "      <td>{\"label\": 1}</td>\n",
       "    </tr>\n",
       "  </tbody>\n",
       "</table>\n",
       "</div>"
      ],
      "text/plain": [
       "   label  id                                           sentence        scores\n",
       "0      0   0  Unusual trading pattern detected in your portf...  {\"label\": 0}\n",
       "1      0   1  Alert: Unusual activity on your OCBC card. Ver...  {\"label\": 0}\n",
       "2      0   2  ALERT: Your Singtel line will be terminated du...  {\"label\": 0}\n",
       "3      0   3  Congratulations! You've won a prize in our luc...  {\"label\": 0}\n",
       "4      1   4  Reminder: Your yoga class at True Fitness Nove...  {\"label\": 1}"
      ]
     },
     "execution_count": 10,
     "metadata": {},
     "output_type": "execute_result"
    }
   ],
   "source": [
    "df.head()"
   ]
  },
  {
   "cell_type": "code",
   "execution_count": 11,
   "id": "af14ff53",
   "metadata": {},
   "outputs": [],
   "source": [
    "system_prompt=\"You are a text classification model, given an input text, you will return a JSON object containing the probability scores for the following categories: 'label'. The JASON object should have key corresponding to these category, and the values should be 0 if email is classified as spam and 1 if email is not a spam.  Please respond with only the JSON object, without any additional text or explanation.\""
   ]
  },
  {
   "cell_type": "code",
   "execution_count": 12,
   "id": "da931fce",
   "metadata": {},
   "outputs": [],
   "source": [
    "example_prompt={\n",
    "    \"messages\":[\n",
    "       {\"role\":\"system\",\"content\":system_prompt},\n",
    "       {\"role\":\"user\",\"content\":df[\"sentence\"].iloc[1]},\n",
    "       {\"role\":\"assistant\",\"content\":df[\"scores\"].iloc[1]}\n",
    "        \n",
    "    ]\n",
    "}"
   ]
  },
  {
   "cell_type": "code",
   "execution_count": 13,
   "id": "f7508633",
   "metadata": {},
   "outputs": [
    {
     "data": {
      "text/plain": [
       "{'messages': [{'role': 'system',\n",
       "   'content': \"You are a text classification model, given an input text, you will return a JSON object containing the probability scores for the following categories: 'label'. The JASON object should have key corresponding to these category, and the values should be 0 if email is classified as spam and 1 if email is not a spam.  Please respond with only the JSON object, without any additional text or explanation.\"},\n",
       "  {'role': 'user',\n",
       "   'content': 'Alert: Unusual activity on your OCBC card. Verify transactions now: ocbc-sg-secure.com'},\n",
       "  {'role': 'assistant', 'content': '{\"label\": 0}'}]}"
      ]
     },
     "execution_count": 13,
     "metadata": {},
     "output_type": "execute_result"
    }
   ],
   "source": [
    "example_prompt"
   ]
  },
  {
   "cell_type": "code",
   "execution_count": 14,
   "id": "9e3b1127",
   "metadata": {},
   "outputs": [],
   "source": [
    "#Let's create a complete data structure for training data\n",
    "formatted_training_data=[]\n",
    "for index,row in df.iterrows():\n",
    "    item={\n",
    "    \"messages\":[\n",
    "       {\"role\":\"system\",\"content\":system_prompt},\n",
    "       {\"role\":\"user\",\"content\":row[\"sentence\"]},\n",
    "       {\"role\":\"assistant\",\"content\":row[\"scores\"]}\n",
    "        \n",
    "    ]}\n",
    "    formatted_training_data.append(item)"
   ]
  },
  {
   "cell_type": "code",
   "execution_count": 15,
   "id": "620dca53",
   "metadata": {},
   "outputs": [
    {
     "data": {
      "text/plain": [
       "{'messages': [{'role': 'system',\n",
       "   'content': \"You are a text classification model, given an input text, you will return a JSON object containing the probability scores for the following categories: 'label'. The JASON object should have key corresponding to these category, and the values should be 0 if email is classified as spam and 1 if email is not a spam.  Please respond with only the JSON object, without any additional text or explanation.\"},\n",
       "  {'role': 'user',\n",
       "   'content': 'Alert: Unusual activity on your OCBC card. Verify transactions now: ocbc-sg-secure.com'},\n",
       "  {'role': 'assistant', 'content': '{\"label\": 0}'}]}"
      ]
     },
     "execution_count": 15,
     "metadata": {},
     "output_type": "execute_result"
    }
   ],
   "source": [
    "formatted_training_data[1]"
   ]
  },
  {
   "cell_type": "markdown",
   "id": "de72a3d8",
   "metadata": {},
   "source": [
    "## Test data"
   ]
  },
  {
   "cell_type": "code",
   "execution_count": 16,
   "id": "d17cd85c",
   "metadata": {},
   "outputs": [
    {
     "data": {
      "text/html": [
       "<div>\n",
       "<style scoped>\n",
       "    .dataframe tbody tr th:only-of-type {\n",
       "        vertical-align: middle;\n",
       "    }\n",
       "\n",
       "    .dataframe tbody tr th {\n",
       "        vertical-align: top;\n",
       "    }\n",
       "\n",
       "    .dataframe thead th {\n",
       "        text-align: right;\n",
       "    }\n",
       "</style>\n",
       "<table border=\"1\" class=\"dataframe\">\n",
       "  <thead>\n",
       "    <tr style=\"text-align: right;\">\n",
       "      <th></th>\n",
       "      <th>label</th>\n",
       "      <th>id</th>\n",
       "      <th>sentence</th>\n",
       "      <th>scores</th>\n",
       "    </tr>\n",
       "  </thead>\n",
       "  <tbody>\n",
       "    <tr>\n",
       "      <th>0</th>\n",
       "      <td>0</td>\n",
       "      <td>0</td>\n",
       "      <td>Exclusive VIP access: Pre-sale tickets for Mar...</td>\n",
       "      <td>{\"label\": 0}</td>\n",
       "    </tr>\n",
       "    <tr>\n",
       "      <th>1</th>\n",
       "      <td>1</td>\n",
       "      <td>1</td>\n",
       "      <td>Operative Echo, mission abort. Compromised ass...</td>\n",
       "      <td>{\"label\": 1}</td>\n",
       "    </tr>\n",
       "    <tr>\n",
       "      <th>2</th>\n",
       "      <td>1</td>\n",
       "      <td>2</td>\n",
       "      <td>Sis, mum asking if you're coming for dinner. S...</td>\n",
       "      <td>{\"label\": 1}</td>\n",
       "    </tr>\n",
       "    <tr>\n",
       "      <th>3</th>\n",
       "      <td>1</td>\n",
       "      <td>3</td>\n",
       "      <td>Hi Lisa, I've reviewed your proposal for the A...</td>\n",
       "      <td>{\"label\": 1}</td>\n",
       "    </tr>\n",
       "    <tr>\n",
       "      <th>4</th>\n",
       "      <td>1</td>\n",
       "      <td>4</td>\n",
       "      <td>LinkedIn: Jon Smith has endorsed you for 'Proj...</td>\n",
       "      <td>{\"label\": 1}</td>\n",
       "    </tr>\n",
       "  </tbody>\n",
       "</table>\n",
       "</div>"
      ],
      "text/plain": [
       "   label  id                                           sentence        scores\n",
       "0      0   0  Exclusive VIP access: Pre-sale tickets for Mar...  {\"label\": 0}\n",
       "1      1   1  Operative Echo, mission abort. Compromised ass...  {\"label\": 1}\n",
       "2      1   2  Sis, mum asking if you're coming for dinner. S...  {\"label\": 1}\n",
       "3      1   3  Hi Lisa, I've reviewed your proposal for the A...  {\"label\": 1}\n",
       "4      1   4  LinkedIn: Jon Smith has endorsed you for 'Proj...  {\"label\": 1}"
      ]
     },
     "execution_count": 16,
     "metadata": {},
     "output_type": "execute_result"
    }
   ],
   "source": [
    "combined_scores=df_validation[\"label\"].to_frame()\n",
    "scores_validation=[]\n",
    "\n",
    "for index,row in combined_scores.iterrows():\n",
    "    scores_dict=row.to_dict()\n",
    "    scores_str=json.dumps(scores_dict)\n",
    "    scores_validation.append(scores_str)\n",
    "    \n",
    "df_validation[\"scores\"]=scores_validation\n",
    "df_validation.head()"
   ]
  },
  {
   "cell_type": "code",
   "execution_count": 17,
   "id": "5997f806",
   "metadata": {},
   "outputs": [],
   "source": [
    "#Let's create a complete data structure for test data\n",
    "formatted_validation_data=[]\n",
    "for index,row in df_validation.iterrows():\n",
    "    item={\n",
    "    \"messages\":[\n",
    "       {\"role\":\"system\",\"content\":system_prompt},\n",
    "       {\"role\":\"user\",\"content\":row[\"sentence\"]},\n",
    "       {\"role\":\"assistant\",\"content\":row[\"scores\"]}\n",
    "        \n",
    "    ]}\n",
    "    formatted_validation_data.append(item)"
   ]
  },
  {
   "cell_type": "code",
   "execution_count": 18,
   "id": "c9f62a38",
   "metadata": {},
   "outputs": [
    {
     "data": {
      "text/plain": [
       "{'messages': [{'role': 'system',\n",
       "   'content': \"You are a text classification model, given an input text, you will return a JSON object containing the probability scores for the following categories: 'label'. The JASON object should have key corresponding to these category, and the values should be 0 if email is classified as spam and 1 if email is not a spam.  Please respond with only the JSON object, without any additional text or explanation.\"},\n",
       "  {'role': 'user',\n",
       "   'content': \"Meeting Mr. Tan for lunch at Food Republic Wisma Atria. 1pm okay? He wants to discuss the new project proposal. Bring any relevant documents you have. If you're running late, give me a call and I'll order for you.\"},\n",
       "  {'role': 'assistant', 'content': '{\"label\": 1}'}]}"
      ]
     },
     "execution_count": 18,
     "metadata": {},
     "output_type": "execute_result"
    }
   ],
   "source": [
    "formatted_validation_data[-1]"
   ]
  },
  {
   "cell_type": "markdown",
   "id": "df469109",
   "metadata": {},
   "source": [
    "## OpenAI expects this messages in a JSONL file, also known as JSON Lines"
   ]
  },
  {
   "cell_type": "code",
   "execution_count": 19,
   "id": "adaee506",
   "metadata": {},
   "outputs": [],
   "source": [
    "with open(\"./training_dataset.jsonl\",\"w\") as f:\n",
    "    for item in formatted_training_data:\n",
    "        f.write(json.dumps(item))\n",
    "        f.write(\"\\n\")"
   ]
  },
  {
   "cell_type": "code",
   "execution_count": 20,
   "id": "7f027f76",
   "metadata": {},
   "outputs": [],
   "source": [
    "with open(\"./validation_dataset.jsonl\",\"w\") as f:\n",
    "    for item in formatted_validation_data:\n",
    "        f.write(json.dumps(item))\n",
    "        f.write(\"\\n\")"
   ]
  },
  {
   "cell_type": "markdown",
   "id": "8ab32fd9",
   "metadata": {},
   "source": [
    "## Fine tuning"
   ]
  },
  {
   "cell_type": "code",
   "execution_count": 4,
   "id": "e5e2b740-a2a4-4e1c-9145-f6083d5f9912",
   "metadata": {},
   "outputs": [],
   "source": [
    "from openai import OpenAI"
   ]
  },
  {
   "cell_type": "code",
   "execution_count": 26,
   "id": "a808eaad",
   "metadata": {},
   "outputs": [],
   "source": [
    "client=OpenAI(api_key=api_key)"
   ]
  },
  {
   "cell_type": "code",
   "execution_count": 27,
   "id": "f0a25954",
   "metadata": {},
   "outputs": [
    {
     "data": {
      "text/plain": [
       "FileObject(id='file-NpCXcQK7CedWpoAm53AqdH', bytes=156122, created_at=1753926212, filename='training_dataset.jsonl', object='file', purpose='fine-tune', status='processed', expires_at=None, status_details=None)"
      ]
     },
     "execution_count": 27,
     "metadata": {},
     "output_type": "execute_result"
    }
   ],
   "source": [
    "training_file=client.files.create(\n",
    "    file=open(\"./training_dataset.jsonl\",\"rb\"),\n",
    "    purpose=\"fine-tune\"\n",
    ")\n",
    "\n",
    "training_file"
   ]
  },
  {
   "cell_type": "code",
   "execution_count": 28,
   "id": "a9414faa-c181-4e39-a605-7ff83cd1c528",
   "metadata": {},
   "outputs": [
    {
     "data": {
      "text/plain": [
       "FileObject(id='file-AWthpDqXqDFvpsQCHv3GNc', bytes=38253, created_at=1753926438, filename='validation_dataset.jsonl', object='file', purpose='fine-tune', status='processed', expires_at=None, status_details=None)"
      ]
     },
     "execution_count": 28,
     "metadata": {},
     "output_type": "execute_result"
    }
   ],
   "source": [
    "validation_file=client.files.create(\n",
    "    file=open(\"./validation_dataset.jsonl\",\"rb\"),\n",
    "    purpose=\"fine-tune\"\n",
    ")\n",
    "\n",
    "validation_file"
   ]
  },
  {
   "cell_type": "code",
   "execution_count": 29,
   "id": "60bbc3fc-6755-4f99-b417-bd6444106bf8",
   "metadata": {},
   "outputs": [],
   "source": [
    "fine_tuning=client.fine_tuning.jobs.create(\n",
    "    training_file=training_file.id,\n",
    "    model=\"gpt-3.5-turbo-0125\",\n",
    "    validation_file=validation_file.id,\n",
    "    hyperparameters={\"n_epochs\":1, \"batch_size\": 25}   \n",
    ")"
   ]
  },
  {
   "cell_type": "code",
   "execution_count": 30,
   "id": "a4940270-aa49-4671-98fa-a34160e853c8",
   "metadata": {},
   "outputs": [
    {
     "data": {
      "text/plain": [
       "FineTuningJob(id='ftjob-eW38TZ3H4cSceXK1AnXXwwL0', created_at=1753926694, error=Error(code=None, message=None, param=None), fine_tuned_model=None, finished_at=None, hyperparameters=Hyperparameters(batch_size='auto', learning_rate_multiplier='auto', n_epochs=2), model='gpt-3.5-turbo-0125', object='fine_tuning.job', organization_id='org-JH6SpMdHPPAXKH6ayW3x68Ur', result_files=[], seed=1669942151, status='validating_files', trained_tokens=None, training_file='file-NpCXcQK7CedWpoAm53AqdH', validation_file='file-AWthpDqXqDFvpsQCHv3GNc', estimated_finish=None, integrations=[], metadata=None, method=Method(dpo=None, supervised=MethodSupervised(hyperparameters=MethodSupervisedHyperparameters(batch_size='auto', learning_rate_multiplier='auto', n_epochs=2)), type='supervised'), user_provided_suffix=None, usage_metrics=None, shared_with_openai=False, eval_id=None)"
      ]
     },
     "execution_count": 30,
     "metadata": {},
     "output_type": "execute_result"
    }
   ],
   "source": [
    "fine_tuning"
   ]
  },
  {
   "cell_type": "code",
   "execution_count": 32,
   "id": "06446534-8911-4335-8f91-e4131c265864",
   "metadata": {},
   "outputs": [
    {
     "data": {
      "text/plain": [
       "SyncCursorPage[FineTuningJob](data=[FineTuningJob(id='ftjob-eW38TZ3H4cSceXK1AnXXwwL0', created_at=1753926694, error=Error(code=None, message=None, param=None), fine_tuned_model='ft:gpt-3.5-turbo-0125:personal::BzD1XHjE', finished_at=1753927768, hyperparameters=Hyperparameters(batch_size=1, learning_rate_multiplier=2.0, n_epochs=2), model='gpt-3.5-turbo-0125', object='fine_tuning.job', organization_id='org-JH6SpMdHPPAXKH6ayW3x68Ur', result_files=['file-1UFAbZFHhFgCwwtpXUBkcf'], seed=1669942151, status='succeeded', trained_tokens=61286, training_file='file-NpCXcQK7CedWpoAm53AqdH', validation_file='file-AWthpDqXqDFvpsQCHv3GNc', estimated_finish=None, integrations=[], metadata=None, method=Method(dpo=None, supervised=MethodSupervised(hyperparameters=MethodSupervisedHyperparameters(batch_size=1, learning_rate_multiplier=2.0, n_epochs=2)), type='supervised'), user_provided_suffix=None, usage_metrics=None, shared_with_openai=False, eval_id=None)], has_more=False, object='list')"
      ]
     },
     "execution_count": 32,
     "metadata": {},
     "output_type": "execute_result"
    }
   ],
   "source": [
    "#Check status of tuning\n",
    "client.fine_tuning.jobs.list(limit=1)"
   ]
  },
  {
   "cell_type": "code",
   "execution_count": null,
   "id": "a049c84b-ec62-4792-a9e6-9c8a70cf9d29",
   "metadata": {},
   "outputs": [],
   "source": []
  },
  {
   "cell_type": "markdown",
   "id": "9fd09554-c5b2-4ec7-a437-69d64a45e21e",
   "metadata": {},
   "source": [
    "# Using custom fine tuned model"
   ]
  },
  {
   "cell_type": "code",
   "execution_count": 35,
   "id": "039bec84-cad7-457e-b817-fe068521c971",
   "metadata": {},
   "outputs": [],
   "source": [
    "client= OpenAI(api_key=api_key)\n",
    "\n",
    "\n",
    "response=client.chat.completions.create(\n",
    "    model=\"ft:gpt-3.5-turbo-0125:personal::BzD1XHjE\",  #name of the \n",
    "    messages= [\n",
    "    {\n",
    "      \"content\": system_prompt,\n",
    "      \"role\": \"system\"\n",
    "    },\n",
    "    {\n",
    "      \"content\": \"Hey Boss, get your job done by yourself!\",\n",
    "      \"role\": \"user\"\n",
    "    }\n",
    "  ],\n",
    ")"
   ]
  },
  {
   "cell_type": "code",
   "execution_count": 36,
   "id": "44f7bb23-8b8d-477c-96d8-c3af8e50ad1b",
   "metadata": {},
   "outputs": [
    {
     "data": {
      "text/plain": [
       "'{\"label\": 1}'"
      ]
     },
     "execution_count": 36,
     "metadata": {},
     "output_type": "execute_result"
    }
   ],
   "source": [
    "response.choices[0].message.content"
   ]
  },
  {
   "cell_type": "code",
   "execution_count": 37,
   "id": "6bb2c581-9705-4084-9897-8d6508889c1c",
   "metadata": {},
   "outputs": [],
   "source": [
    "#This corresponds to spam, which is reasonable"
   ]
  },
  {
   "cell_type": "code",
   "execution_count": null,
   "id": "6c732c40-0da6-4321-b5d9-1961658a8d30",
   "metadata": {},
   "outputs": [],
   "source": []
  }
 ],
 "metadata": {
  "kernelspec": {
   "display_name": "Python 3 (ipykernel)",
   "language": "python",
   "name": "python3"
  },
  "language_info": {
   "codemirror_mode": {
    "name": "ipython",
    "version": 3
   },
   "file_extension": ".py",
   "mimetype": "text/x-python",
   "name": "python",
   "nbconvert_exporter": "python",
   "pygments_lexer": "ipython3",
   "version": "3.9.23"
  }
 },
 "nbformat": 4,
 "nbformat_minor": 5
}
