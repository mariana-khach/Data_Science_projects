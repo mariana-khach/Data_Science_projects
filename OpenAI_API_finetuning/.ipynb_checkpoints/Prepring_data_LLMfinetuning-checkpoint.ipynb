{
 "cells": [
  {
   "cell_type": "markdown",
   "id": "a7062117",
   "metadata": {},
   "source": [
    "# Spam data"
   ]
  },
  {
   "cell_type": "code",
   "execution_count": 4,
   "id": "f6dff958",
   "metadata": {},
   "outputs": [],
   "source": [
    "import pandas as pd\n",
    "import numpy as np\n",
    "import matplotlib.pyplot as plt"
   ]
  },
  {
   "cell_type": "code",
   "execution_count": null,
   "id": "71ff6844",
   "metadata": {},
   "outputs": [],
   "source": []
  },
  {
   "cell_type": "markdown",
   "id": "20e1e29c",
   "metadata": {},
   "source": [
    "## test sample"
   ]
  },
  {
   "cell_type": "code",
   "execution_count": 61,
   "id": "6c21a198",
   "metadata": {},
   "outputs": [],
   "source": [
    "df_spam=pd.read_csv(\"spam_test.csv\", encoding='ISO-8859-1')"
   ]
  },
  {
   "cell_type": "code",
   "execution_count": 62,
   "id": "8be35498",
   "metadata": {},
   "outputs": [
    {
     "name": "stdout",
     "output_type": "stream",
     "text": [
      "<class 'pandas.core.frame.DataFrame'>\n",
      "RangeIndex: 55 entries, 0 to 54\n",
      "Data columns (total 2 columns):\n",
      " #   Column  Non-Null Count  Dtype \n",
      "---  ------  --------------  ----- \n",
      " 0   text    55 non-null     object\n",
      " 1   label   55 non-null     int64 \n",
      "dtypes: int64(1), object(1)\n",
      "memory usage: 1008.0+ bytes\n"
     ]
    }
   ],
   "source": [
    "df_spam.info()"
   ]
  },
  {
   "cell_type": "code",
   "execution_count": 63,
   "id": "93e8e905",
   "metadata": {},
   "outputs": [],
   "source": [
    "df_spam[\"id\"]=df_spam.index"
   ]
  },
  {
   "cell_type": "code",
   "execution_count": 64,
   "id": "7426f7eb",
   "metadata": {},
   "outputs": [
    {
     "data": {
      "text/html": [
       "<div>\n",
       "<style scoped>\n",
       "    .dataframe tbody tr th:only-of-type {\n",
       "        vertical-align: middle;\n",
       "    }\n",
       "\n",
       "    .dataframe tbody tr th {\n",
       "        vertical-align: top;\n",
       "    }\n",
       "\n",
       "    .dataframe thead th {\n",
       "        text-align: right;\n",
       "    }\n",
       "</style>\n",
       "<table border=\"1\" class=\"dataframe\">\n",
       "  <thead>\n",
       "    <tr style=\"text-align: right;\">\n",
       "      <th></th>\n",
       "      <th>text</th>\n",
       "      <th>label</th>\n",
       "      <th>id</th>\n",
       "    </tr>\n",
       "  </thead>\n",
       "  <tbody>\n",
       "    <tr>\n",
       "      <th>0</th>\n",
       "      <td>Exclusive VIP access: Pre-sale tickets for Mar...</td>\n",
       "      <td>0</td>\n",
       "      <td>0</td>\n",
       "    </tr>\n",
       "    <tr>\n",
       "      <th>1</th>\n",
       "      <td>Operative Echo, mission abort. Compromised ass...</td>\n",
       "      <td>1</td>\n",
       "      <td>1</td>\n",
       "    </tr>\n",
       "    <tr>\n",
       "      <th>2</th>\n",
       "      <td>Sis, mum asking if you're coming for dinner. S...</td>\n",
       "      <td>1</td>\n",
       "      <td>2</td>\n",
       "    </tr>\n",
       "    <tr>\n",
       "      <th>3</th>\n",
       "      <td>Hi Lisa, I've reviewed your proposal for the A...</td>\n",
       "      <td>1</td>\n",
       "      <td>3</td>\n",
       "    </tr>\n",
       "    <tr>\n",
       "      <th>4</th>\n",
       "      <td>LinkedIn: Jon Smith has endorsed you for 'Proj...</td>\n",
       "      <td>1</td>\n",
       "      <td>4</td>\n",
       "    </tr>\n",
       "  </tbody>\n",
       "</table>\n",
       "</div>"
      ],
      "text/plain": [
       "                                                text  label  id\n",
       "0  Exclusive VIP access: Pre-sale tickets for Mar...      0   0\n",
       "1  Operative Echo, mission abort. Compromised ass...      1   1\n",
       "2  Sis, mum asking if you're coming for dinner. S...      1   2\n",
       "3  Hi Lisa, I've reviewed your proposal for the A...      1   3\n",
       "4  LinkedIn: Jon Smith has endorsed you for 'Proj...      1   4"
      ]
     },
     "execution_count": 64,
     "metadata": {},
     "output_type": "execute_result"
    }
   ],
   "source": [
    "df_spam.head(5)"
   ]
  },
  {
   "cell_type": "code",
   "execution_count": 65,
   "id": "76948dbb",
   "metadata": {},
   "outputs": [],
   "source": [
    "df_spam[\"sentence\"]=df_spam[\"text\"]"
   ]
  },
  {
   "cell_type": "code",
   "execution_count": 66,
   "id": "037e3a71",
   "metadata": {},
   "outputs": [],
   "source": [
    "df_spam.drop(\"text\",axis=1, inplace=True)"
   ]
  },
  {
   "cell_type": "code",
   "execution_count": 67,
   "id": "b88cffb3",
   "metadata": {},
   "outputs": [
    {
     "data": {
      "text/html": [
       "<div>\n",
       "<style scoped>\n",
       "    .dataframe tbody tr th:only-of-type {\n",
       "        vertical-align: middle;\n",
       "    }\n",
       "\n",
       "    .dataframe tbody tr th {\n",
       "        vertical-align: top;\n",
       "    }\n",
       "\n",
       "    .dataframe thead th {\n",
       "        text-align: right;\n",
       "    }\n",
       "</style>\n",
       "<table border=\"1\" class=\"dataframe\">\n",
       "  <thead>\n",
       "    <tr style=\"text-align: right;\">\n",
       "      <th></th>\n",
       "      <th>label</th>\n",
       "      <th>id</th>\n",
       "      <th>sentence</th>\n",
       "    </tr>\n",
       "  </thead>\n",
       "  <tbody>\n",
       "    <tr>\n",
       "      <th>0</th>\n",
       "      <td>0</td>\n",
       "      <td>0</td>\n",
       "      <td>Exclusive VIP access: Pre-sale tickets for Mar...</td>\n",
       "    </tr>\n",
       "    <tr>\n",
       "      <th>1</th>\n",
       "      <td>1</td>\n",
       "      <td>1</td>\n",
       "      <td>Operative Echo, mission abort. Compromised ass...</td>\n",
       "    </tr>\n",
       "    <tr>\n",
       "      <th>2</th>\n",
       "      <td>1</td>\n",
       "      <td>2</td>\n",
       "      <td>Sis, mum asking if you're coming for dinner. S...</td>\n",
       "    </tr>\n",
       "  </tbody>\n",
       "</table>\n",
       "</div>"
      ],
      "text/plain": [
       "   label  id                                           sentence\n",
       "0      0   0  Exclusive VIP access: Pre-sale tickets for Mar...\n",
       "1      1   1  Operative Echo, mission abort. Compromised ass...\n",
       "2      1   2  Sis, mum asking if you're coming for dinner. S..."
      ]
     },
     "execution_count": 67,
     "metadata": {},
     "output_type": "execute_result"
    }
   ],
   "source": [
    "df_spam.head(3)"
   ]
  },
  {
   "cell_type": "code",
   "execution_count": 68,
   "id": "cb3ddb70",
   "metadata": {},
   "outputs": [
    {
     "data": {
      "text/plain": [
       "(55, 3)"
      ]
     },
     "execution_count": 68,
     "metadata": {},
     "output_type": "execute_result"
    }
   ],
   "source": [
    "df_spam.shape"
   ]
  },
  {
   "cell_type": "code",
   "execution_count": 69,
   "id": "3863e7d3",
   "metadata": {},
   "outputs": [],
   "source": [
    "df_spam.to_csv('validation_data.csv', index=False)"
   ]
  },
  {
   "cell_type": "markdown",
   "id": "68dc5f78",
   "metadata": {},
   "source": [
    "## train sample"
   ]
  },
  {
   "cell_type": "code",
   "execution_count": 70,
   "id": "8dbf6035",
   "metadata": {},
   "outputs": [],
   "source": [
    "df_spam_train=pd.read_csv(\"spam_train.csv\", encoding='ISO-8859-1')"
   ]
  },
  {
   "cell_type": "code",
   "execution_count": 71,
   "id": "bb80008a",
   "metadata": {},
   "outputs": [],
   "source": [
    "df_spam_train[\"id\"]=df_spam_train.index"
   ]
  },
  {
   "cell_type": "code",
   "execution_count": 72,
   "id": "0811b58f",
   "metadata": {},
   "outputs": [],
   "source": [
    "df_spam_train[\"sentence\"]=df_spam_train[\"text\"]"
   ]
  },
  {
   "cell_type": "code",
   "execution_count": 73,
   "id": "76796ed9",
   "metadata": {},
   "outputs": [],
   "source": [
    "df_spam_train.drop(\"text\",axis=1, inplace=True)"
   ]
  },
  {
   "cell_type": "code",
   "execution_count": 74,
   "id": "9dacb43f",
   "metadata": {},
   "outputs": [
    {
     "data": {
      "text/html": [
       "<div>\n",
       "<style scoped>\n",
       "    .dataframe tbody tr th:only-of-type {\n",
       "        vertical-align: middle;\n",
       "    }\n",
       "\n",
       "    .dataframe tbody tr th {\n",
       "        vertical-align: top;\n",
       "    }\n",
       "\n",
       "    .dataframe thead th {\n",
       "        text-align: right;\n",
       "    }\n",
       "</style>\n",
       "<table border=\"1\" class=\"dataframe\">\n",
       "  <thead>\n",
       "    <tr style=\"text-align: right;\">\n",
       "      <th></th>\n",
       "      <th>label</th>\n",
       "      <th>id</th>\n",
       "      <th>sentence</th>\n",
       "    </tr>\n",
       "  </thead>\n",
       "  <tbody>\n",
       "    <tr>\n",
       "      <th>0</th>\n",
       "      <td>0</td>\n",
       "      <td>0</td>\n",
       "      <td>Unusual trading pattern detected in your portf...</td>\n",
       "    </tr>\n",
       "    <tr>\n",
       "      <th>1</th>\n",
       "      <td>0</td>\n",
       "      <td>1</td>\n",
       "      <td>Alert: Unusual activity on your OCBC card. Ver...</td>\n",
       "    </tr>\n",
       "    <tr>\n",
       "      <th>2</th>\n",
       "      <td>0</td>\n",
       "      <td>2</td>\n",
       "      <td>ALERT: Your Singtel line will be terminated du...</td>\n",
       "    </tr>\n",
       "  </tbody>\n",
       "</table>\n",
       "</div>"
      ],
      "text/plain": [
       "   label  id                                           sentence\n",
       "0      0   0  Unusual trading pattern detected in your portf...\n",
       "1      0   1  Alert: Unusual activity on your OCBC card. Ver...\n",
       "2      0   2  ALERT: Your Singtel line will be terminated du..."
      ]
     },
     "execution_count": 74,
     "metadata": {},
     "output_type": "execute_result"
    }
   ],
   "source": [
    "df_spam_train.head(3)"
   ]
  },
  {
   "cell_type": "code",
   "execution_count": 75,
   "id": "70cd8ef8",
   "metadata": {},
   "outputs": [],
   "source": [
    "df_spam_train.to_csv('df.csv', index=False)"
   ]
  },
  {
   "cell_type": "code",
   "execution_count": null,
   "id": "76478dc2",
   "metadata": {},
   "outputs": [],
   "source": []
  },
  {
   "cell_type": "code",
   "execution_count": null,
   "id": "dda6ff54",
   "metadata": {},
   "outputs": [],
   "source": []
  }
 ],
 "metadata": {
  "kernelspec": {
   "display_name": "Python 3 (ipykernel)",
   "language": "python",
   "name": "python3"
  },
  "language_info": {
   "codemirror_mode": {
    "name": "ipython",
    "version": 3
   },
   "file_extension": ".py",
   "mimetype": "text/x-python",
   "name": "python",
   "nbconvert_exporter": "python",
   "pygments_lexer": "ipython3",
   "version": "3.9.23"
  }
 },
 "nbformat": 4,
 "nbformat_minor": 5
}
